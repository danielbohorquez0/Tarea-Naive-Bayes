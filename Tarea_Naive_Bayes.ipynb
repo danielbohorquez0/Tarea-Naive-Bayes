{
  "nbformat": 4,
  "nbformat_minor": 0,
  "metadata": {
    "colab": {
      "name": "Tarea Naive Bayes.ipynb",
      "provenance": [],
      "collapsed_sections": []
    },
    "kernelspec": {
      "name": "python3",
      "display_name": "Python 3"
    },
    "language_info": {
      "name": "python"
    }
  },
  "cells": [
    {
      "cell_type": "code",
      "metadata": {
        "colab": {
          "base_uri": "https://localhost:8080/"
        },
        "id": "lUjwlGnty1Wo",
        "outputId": "b377ebd1-4795-4474-feb7-1e9b9ebf95a6"
      },
      "source": [
        "from sklearn.datasets import load_iris\n",
        "from sklearn.model_selection import train_test_split\n",
        "from sklearn.preprocessing import StandardScaler\n",
        "from sklearn.naive_bayes import GaussianNB\n",
        "from sklearn.metrics import f1_score\n",
        "from sklearn.metrics import accuracy_score\n",
        "from sklearn.metrics import matthews_corrcoef\n",
        "from sklearn.tree import DecisionTreeClassifier\n",
        "\n",
        "Datos = load_iris()\n",
        "x = Datos.data\n",
        "y = Datos.target\n",
        "\n",
        "x_train, x_test, y_train, y_test = train_test_split(x,y, test_size= 0.25, random_state=0)\n",
        "standar_scaler = StandardScaler()\n",
        "x_train = standar_scaler.fit_transform(x_train)\n",
        "x_test = standar_scaler.fit_transform(x_test)\n",
        "\n",
        "# Naive Byaes\n",
        "NaiveB = GaussianNB()\n",
        "NaiveB.fit(x_train, y_train)\n",
        "NB_Pred = NaiveB.predict(x_test)\n",
        "\n",
        "# Metricas\n",
        "F1_Score_NB = f1_score(y_test, NB_Pred, average= 'micro')\n",
        "Accuracy_NB = accuracy_score(y_test, NB_Pred)\n",
        "MCC_NB = matthews_corrcoef(y_test, NB_Pred)\n",
        "\n",
        "print ('F1 Naive Bayes:', F1_Score_NB.round(3))\n",
        "print ('Accuracy Naive Bayes:', Accuracy_NB.round(3))\n",
        "print ('MCC Naive Bayes:', MCC_NB.round(3))\n",
        "\n",
        "\n",
        "# DecisionTree\n",
        "Deci_Tree = DecisionTreeClassifier(criterion='entropy', random_state=0)\n",
        "Deci_Tree.fit(x_train, y_train)\n",
        "DT_Pred = Deci_Tree.predict(x_test)\n",
        "\n",
        "# Metricas\n",
        "F1_Score_DT = f1_score(y_test, DT_Pred, average= 'micro')\n",
        "Accuracy_DT = accuracy_score(y_test, DT_Pred)\n",
        "MCC_DT = matthews_corrcoef(y_test, DT_Pred)\n",
        "\n",
        "print (28*'-')\n",
        "print ('F1 Decision Tree:', F1_Score_DT.round(3))\n",
        "print ('Accuracy Decision Tree:', Accuracy_DT.round(3))\n",
        "print ('MCC Decision Tree:', MCC_DT.round(3))\n",
        "\n",
        "# gini y minimo de muestras en hoja \n",
        "Deci_Tree = DecisionTreeClassifier(criterion='gini', random_state=0, min_samples_leaf= 3)\n",
        "Deci_Tree.fit(x_train, y_train)\n",
        "DT_Pred = Deci_Tree.predict(x_test)\n",
        "\n",
        "# Metricas\n",
        "F1_Score_DT = f1_score(y_test, DT_Pred, average= 'micro')\n",
        "Accuracy_DT = accuracy_score(y_test, DT_Pred)\n",
        "MCC_DT = matthews_corrcoef(y_test, DT_Pred)\n",
        "\n",
        "print (28*'-')\n",
        "\n",
        "print ('F1 Decision Tree:', F1_Score_DT.round(3))\n",
        "print ('Accuracy Decision Tree:', Accuracy_DT.round(3))\n",
        "print ('MCC Decision Tree:', MCC_DT.round(3))"
      ],
      "execution_count": 1,
      "outputs": [
        {
          "output_type": "stream",
          "name": "stdout",
          "text": [
            "F1 Naive Bayes: 0.868\n",
            "Accuracy Naive Bayes: 0.868\n",
            "MCC Naive Bayes: 0.826\n",
            "----------------------------\n",
            "F1 Decision Tree: 0.974\n",
            "Accuracy Decision Tree: 0.974\n",
            "MCC Decision Tree: 0.961\n",
            "----------------------------\n",
            "F1 Decision Tree: 0.947\n",
            "Accuracy Decision Tree: 0.947\n",
            "MCC Decision Tree: 0.924\n"
          ]
        }
      ]
    }
  ]
}